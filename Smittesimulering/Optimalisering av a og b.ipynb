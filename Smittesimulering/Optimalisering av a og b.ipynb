{
 "cells": [
  {
   "cell_type": "code",
   "execution_count": 31,
   "metadata": {},
   "outputs": [],
   "source": [
    "import numpy as np\n",
    "import matplotlib.pyplot as plt\n",
    "import seaborn as sns \n",
    "import pandas as pd\n",
    "import scipy as sp"
   ]
  },
  {
   "cell_type": "code",
   "execution_count": 32,
   "metadata": {},
   "outputs": [],
   "source": [
    "x = np.linspace(0,50,100)\n",
    "y = 2*np.cos(x+1)\n",
    "trues = np.array([x,y]).T"
   ]
  },
  {
   "cell_type": "code",
   "execution_count": 33,
   "metadata": {},
   "outputs": [],
   "source": [
    "def modell (a,b,x):\n",
    "    return (a*np.cos(x+b))"
   ]
  },
  {
   "cell_type": "code",
   "execution_count": 34,
   "metadata": {},
   "outputs": [],
   "source": [
    "def modell_error (x, xx):\n",
    "    a,b = x\n",
    "    m = modell(a,b,xx)\n",
    "    err = m - trues[:,1]\n",
    "    return (np.sum(err**2))"
   ]
  },
  {
   "cell_type": "code",
   "execution_count": 35,
   "metadata": {},
   "outputs": [
    {
     "name": "stdout",
     "output_type": "stream",
     "text": [
      "  message: Optimization terminated successfully.\n",
      "  success: True\n",
      "   status: 0\n",
      "      fun: 7.602492621269018e-15\n",
      "        x: [ 2.000e+00  1.000e+00]\n",
      "      nit: 9\n",
      "      jac: [-4.203e-07  2.187e-06]\n",
      " hess_inv: [[ 1.002e-02  8.871e-06]\n",
      "            [ 8.871e-06  2.518e-03]]\n",
      "     nfev: 33\n",
      "     njev: 11\n"
     ]
    }
   ],
   "source": [
    "x0 = np.array([0,1])\n",
    "res = sp.optimize.minimize(modell_error, x0, args = (xx,))\n",
    "print(res)"
   ]
  },
  {
   "cell_type": "code",
   "execution_count": null,
   "metadata": {},
   "outputs": [],
   "source": []
  }
 ],
 "metadata": {
  "kernelspec": {
   "display_name": "Python 3",
   "language": "python",
   "name": "python3"
  },
  "language_info": {
   "codemirror_mode": {
    "name": "ipython",
    "version": 3
   },
   "file_extension": ".py",
   "mimetype": "text/x-python",
   "name": "python",
   "nbconvert_exporter": "python",
   "pygments_lexer": "ipython3",
   "version": "3.11.9"
  }
 },
 "nbformat": 4,
 "nbformat_minor": 2
}
