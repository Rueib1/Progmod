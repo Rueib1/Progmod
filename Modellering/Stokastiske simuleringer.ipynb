{
 "cells": [
  {
   "cell_type": "markdown",
   "metadata": {},
   "source": [
    "Stokastisk -> tilfeldig"
   ]
  },
  {
   "cell_type": "markdown",
   "metadata": {},
   "source": [
    "#### Monte Carlo-simulering\n",
    "Bruker et tilfeldig tall til å simulere et fenomen ved å gjenta simuleringen mange ganger. (Brukes ofte for å fine sansynlighet)"
   ]
  },
  {
   "cell_type": "code",
   "execution_count": 1,
   "metadata": {},
   "outputs": [
    {
     "name": "stdout",
     "output_type": "stream",
     "text": [
      "Antall yatzy: 7673\n",
      "Det er  0.07672999999999999 % sansynlighet for at\n"
     ]
    }
   ],
   "source": [
    "import random as rnd\n",
    "liste= []\n",
    "yatzy = 0\n",
    "a = 10000000\n",
    "def terninger():\n",
    "    global list\n",
    "    for i in range (5):\n",
    "        liste.append(rnd.randint(1,6))\n",
    "    return list\n",
    "\n",
    "for i in range (a):\n",
    "    liste.clear()\n",
    "    terninger()\n",
    "    if len(set(liste)) == 1:\n",
    "        yatzy += 1\n",
    "\n",
    "print(\"Antall yatzy:\", yatzy)\n",
    "print(\"Det er \", (yatzy/a)*100, \"% sansynlighet for at\")\n"
   ]
  },
  {
   "cell_type": "code",
   "execution_count": 55,
   "metadata": {},
   "outputs": [
    {
     "name": "stdout",
     "output_type": "stream",
     "text": [
      "relativ frekvens: 0.49995207\n"
     ]
    }
   ],
   "source": [
    "import random as rnd\n",
    "n = 100000000\n",
    "l = []\n",
    "\n",
    "for i in range(n):\n",
    "  a = rnd.randint(1,2)\n",
    "  l.append(a)\n",
    "g = l.count(2)\n",
    "#print(l)\n",
    "print(\"relativ frekvens:\", g/n)"
   ]
  },
  {
   "cell_type": "markdown",
   "metadata": {},
   "source": [
    "#### Simulering av arv"
   ]
  },
  {
   "cell_type": "code",
   "execution_count": 2,
   "metadata": {},
   "outputs": [
    {
     "name": "stdout",
     "output_type": "stream",
     "text": [
      "relativ frekvens: 0.25004\n"
     ]
    }
   ],
   "source": [
    "import random as rnd\n",
    "from pylab import *\n",
    "\n",
    "genotype_mor = [\"B\", \"b\"]\n",
    "genotype_far = [\"B\", \"b\"]\n",
    "blaa = 0\n",
    "n = 100000\n",
    "\n",
    "for i in range(n):\n",
    "    allel_mor = choice(genotype_mor)    \n",
    "    allel_far = choice(genotype_far) \n",
    "    genotype = allel_mor + allel_far\n",
    "    if genotype == \"bb\":        \n",
    "        blaa = blaa + 1\n",
    "\n",
    "print(\"Relativ frekvens:\", blaa/n)"
   ]
  },
  {
   "cell_type": "markdown",
   "metadata": {},
   "source": [
    "Om du får fire barn er det ikke usansynlig at ingen har blå øyne. Dette er fordi det er en uavhengi sansynlighet."
   ]
  },
  {
   "cell_type": "markdown",
   "metadata": {},
   "source": [
    "### Erter:"
   ]
  },
  {
   "cell_type": "code",
   "execution_count": 4,
   "metadata": {},
   "outputs": [
    {
     "name": "stdout",
     "output_type": "stream",
     "text": [
      "Relativ frekvens 0.24985\n"
     ]
    }
   ],
   "source": [
    "c = [\"Y\", \"y\"]\n",
    "u = [\"R\", \"r\"]\n",
    "n = 100000\n",
    "Ert = 0\n",
    "for i in range(n):\n",
    "    fenotype1 = choice(c)\n",
    "    fenotype2= choice(u)\n",
    "    if fenotype1 == \"y\" and fenotype2 == \"r\":\n",
    "        Ert+=1\n",
    "print(\"Relativ frekvens\", Ert/n)\n",
    "\n"
   ]
  },
  {
   "cell_type": "markdown",
   "metadata": {},
   "source": [
    "### Tillnærming av pi:"
   ]
  },
  {
   "cell_type": "code",
   "execution_count": 11,
   "metadata": {},
   "outputs": [
    {
     "name": "stdout",
     "output_type": "stream",
     "text": [
      "pi er ca. 3.140164\n",
      "avviket er ca. 0.0014286535897931607\n"
     ]
    }
   ],
   "source": [
    "import random as rnd\n",
    "import numpy as np\n",
    "n = 100000\n",
    "M = 0\n",
    "l = []\n",
    "for i in range(10):\n",
    "    M = 0\n",
    "    for i in range(n):\n",
    "        x = rnd.uniform(0, 1)\n",
    "        y = rnd.uniform(0, 1)\n",
    "        if x**2 + y**2 <= 1:\n",
    "            M += 1\n",
    "    pi = 4*M/n\n",
    "    l.append(pi)\n",
    "print(\"pi er ca.\", sum(l) / len(l))\n",
    "print(\"Avviket er på ca.\", np.pi-(sum(l) / len(l)))\n"
   ]
  },
  {
   "cell_type": "markdown",
   "metadata": {},
   "source": [
    "Brownske bevegelser"
   ]
  },
  {
   "cell_type": "code",
   "execution_count": null,
   "metadata": {},
   "outputs": [
    {
     "name": "stdout",
     "output_type": "stream",
     "text": [
      "[0. 0. 1. 0. 0. 1. 1. 0. 0. 1.] [ 0. -1. -1. -1.  0.  0.  1.  1.  0.  0.]\n"
     ]
    },
    {
     "ename": "AttributeError",
     "evalue": "'int' object has no attribute 'xaxis'",
     "output_type": "error",
     "traceback": [
      "\u001b[1;31m---------------------------------------------------------------------------\u001b[0m",
      "\u001b[1;31mAttributeError\u001b[0m                            Traceback (most recent call last)",
      "Cell \u001b[1;32mIn[46], line 34\u001b[0m\n\u001b[0;32m     32\u001b[0m plt\u001b[38;5;241m.\u001b[39mgrid(\u001b[38;5;28;01mTrue\u001b[39;00m)  \u001b[38;5;66;03m# Aktiver rutenett\u001b[39;00m\n\u001b[0;32m     33\u001b[0m plt\u001b[38;5;241m.\u001b[39mlegend()  \u001b[38;5;66;03m# Legg til forklaring\u001b[39;00m\n\u001b[1;32m---> 34\u001b[0m \u001b[43mplt\u001b[49m\u001b[38;5;241;43m.\u001b[39;49m\u001b[43mAxes\u001b[49m\u001b[38;5;241;43m.\u001b[39;49m\u001b[43mset_xticks\u001b[49m\u001b[43m(\u001b[49m\u001b[38;5;241;43m1\u001b[39;49m\u001b[43m)\u001b[49m\n\u001b[0;32m     35\u001b[0m plt\u001b[38;5;241m.\u001b[39mshow()\n",
      "File \u001b[1;32m~\\AppData\\Local\\Packages\\PythonSoftwareFoundation.Python.3.11_qbz5n2kfra8p0\\LocalCache\\local-packages\\Python311\\site-packages\\matplotlib\\axes\\_base.py:73\u001b[0m, in \u001b[0;36m_axis_method_wrapper.__set_name__.<locals>.wrapper\u001b[1;34m(self, *args, **kwargs)\u001b[0m\n\u001b[0;32m     72\u001b[0m \u001b[38;5;28;01mdef\u001b[39;00m \u001b[38;5;21mwrapper\u001b[39m(\u001b[38;5;28mself\u001b[39m, \u001b[38;5;241m*\u001b[39margs, \u001b[38;5;241m*\u001b[39m\u001b[38;5;241m*\u001b[39mkwargs):\n\u001b[1;32m---> 73\u001b[0m     \u001b[38;5;28;01mreturn\u001b[39;00m \u001b[43mget_method\u001b[49m\u001b[43m(\u001b[49m\u001b[38;5;28;43mself\u001b[39;49m\u001b[43m)\u001b[49m(\u001b[38;5;241m*\u001b[39margs, \u001b[38;5;241m*\u001b[39m\u001b[38;5;241m*\u001b[39mkwargs)\n",
      "\u001b[1;31mAttributeError\u001b[0m: 'int' object has no attribute 'xaxis'"
     ]
    },
    {
     "data": {
      "image/png": "[encoded data removed]",
      "text/plain": [
       "<Figure size 640x480 with 1 Axes>"
      ]
     },
     "metadata": {},
     "output_type": "display_data"
    }
   ],
   "source": [
    "import matplotlib.pyplot as plt\n",
    "import numpy as np\n",
    "import random as rnd\n",
    "\n",
    "N = 10\n",
    "x = np.zeros(N)  # Oppretter en array for x-koordinater med N nullverdier\n",
    "y = np.zeros(N)  # Oppretter en array for y-koordinater med N nullverdier\n",
    "\n",
    "# Gjennomfør tilfeldige bevegelser\n",
    "for i in range(1, N):  # Starter fra indeks 1\n",
    "    t = rnd.randint(1, 4)  # Trekk en tilfeldig retning (1-4)\n",
    "    if t == 1:\n",
    "        x[i] = x[i - 1] + 1  # Flytt til høyre\n",
    "        y[i] = y[i - 1]      # y-koordinaten forblir den samme\n",
    "    elif t == 2:\n",
    "        x[i] = x[i - 1] - 1  # Flytt til venstre\n",
    "        y[i] = y[i - 1]      # y-koordinaten forblir den samme\n",
    "    elif t == 3:\n",
    "        y[i] = y[i - 1] + 1  # Flytt oppover\n",
    "        x[i] = x[i - 1]      # x-koordinaten forblir den samme\n",
    "    elif t == 4:\n",
    "        y[i] = y[i - 1] - 1  # Flytt nedover\n",
    "        x[i] = x[i - 1]      # x-koordinaten forblir den samme\n",
    "\n",
    "print(x, y)\n",
    "\n",
    "# Plott bevegelsen i et koordinatsystem\n",
    "plt.plot(x, y, marker=\"o\", label=\"Sti\")  # Legger til markører for å vise punktene\n",
    "plt.title(\"Brownske Bevegelser\")\n",
    "plt.xlabel(\"x\")\n",
    "plt.ylabel(\"y\")\n",
    "plt.grid(True)  # Aktiver rutenett\n",
    "plt.legend()  # Legg til forklaring\n",
    "plt.Axes.set_xticks(1)\n",
    "plt.show()\n"
   ]
  },
  {
   "cell_type": "code",
   "execution_count": null,
   "metadata": {},
   "outputs": [],
   "source": []
  }
 ],
 "metadata": {
  "kernelspec": {
   "display_name": "Python 3",
   "language": "python",
   "name": "python3"
  },
  "language_info": {
   "codemirror_mode": {
    "name": "ipython",
    "version": 3
   },
   "file_extension": ".py",
   "mimetype": "text/x-python",
   "name": "python",
   "nbconvert_exporter": "python",
   "pygments_lexer": "ipython3",
   "version": "3.11.9"
  }
 },
 "nbformat": 4,
 "nbformat_minor": 2
}
